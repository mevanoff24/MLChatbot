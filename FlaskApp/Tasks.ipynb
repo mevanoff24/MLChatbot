{
 "cells": [
  {
   "cell_type": "markdown",
   "metadata": {},
   "source": [
    "Overview of tasks\n",
    "- create training / validation / testing sets to train starspace embeddings based on the **questions** and **titles**, where there is no `parent_id`. Task in to train in supervised mode for *duplicates detection*\n",
    " - start with `question_to_vec`\n",
    " - look into using doc2vec as well \n",
    " \n",
    "\n",
    "- train a tag classifier so don't have to look for ALL tags at once. \n",
    " \n",
    "- create a database with pre-computed representations. These representations will be arranged by non-overlaping tags (programming languages), so that the search of the answer can be performed only within one tag each time."
   ]
  },
  {
   "cell_type": "markdown",
   "metadata": {},
   "source": [
    "# TODO\n",
    "- don't clean title, have pie in title\n",
    "- remove Possible Duplicate comments from comments "
   ]
  },
  {
   "cell_type": "code",
   "execution_count": null,
   "metadata": {},
   "outputs": [],
   "source": []
  }
 ],
 "metadata": {
  "kernelspec": {
   "display_name": "Python 3",
   "language": "python",
   "name": "python3"
  },
  "language_info": {
   "codemirror_mode": {
    "name": "ipython",
    "version": 3
   },
   "file_extension": ".py",
   "mimetype": "text/x-python",
   "name": "python",
   "nbconvert_exporter": "python",
   "pygments_lexer": "ipython3",
   "version": "3.6.4"
  }
 },
 "nbformat": 4,
 "nbformat_minor": 2
}
