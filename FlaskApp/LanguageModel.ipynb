{
 "cells": [
  {
   "cell_type": "code",
   "execution_count": 1,
   "metadata": {},
   "outputs": [],
   "source": [
    "from fastai.text import *\n",
    "import html\n",
    "\n",
    "import pandas as pd\n",
    "import numpy as np\n",
    "from pathlib import Path\n",
    "\n",
    "from sklearn.feature_extraction.text import TfidfVectorizer\n",
    "from collections import defaultdict\n",
    "import csv\n",
    "\n",
    "PATH = Path('pretrained/')\n",
    "DATA_PATH = Path('data/')\n",
    "MODEL_PATH = Path('models/')\n",
    "LM_PATH = Path('lm/')\n",
    "LM_PATH.mkdir(exist_ok=True)\n",
    "\n",
    "BOS = 'xbos'  # beginning-of-sentence tag\n",
    "FLD = 'xfld'  # data field tag"
   ]
  },
  {
   "cell_type": "code",
   "execution_count": 7,
   "metadata": {},
   "outputs": [
    {
     "name": "stdout",
     "output_type": "stream",
     "text": [
      "(840090, 2)\n",
      "CPU times: user 13min 6s, sys: 4.25 s, total: 13min 10s\n",
      "Wall time: 13min 8s\n"
     ]
    }
   ],
   "source": [
    "%%time\n",
    "# import nltk\n",
    "import pickle\n",
    "import re\n",
    "import numpy as np\n",
    "import html\n",
    "\n",
    "# nltk.download('stopwords')\n",
    "# from nltk.corpus import stopwords\n",
    "# stopwords_set = set(stopwords.words('english'))\n",
    "\n",
    "\n",
    "re1 = re.compile(r'  +')\n",
    "def clean_text(x, remove_html=True, other=True):\n",
    "    if remove_html:\n",
    "        x = re.sub(r'<code>[^>]*</code>', '', x)\n",
    "        x = re.sub(r'<[^>]*>', '', x)\n",
    "        x = re.sub(r'(.*\\/).*', '', x)\n",
    "    if other:\n",
    "        x = x.replace('#39;', \"'\").replace('amp;', '&').replace('#146;', \"'\").replace(\n",
    "            'nbsp;', ' ').replace('#36;', '$').replace('\\\\n', \"\\n\").replace('quot;', \"'\").replace(\n",
    "            '<br />', \"\\n\").replace('\\\\\"', '').replace('<unk>','u_n').replace(' @.@ ','.').replace(\n",
    "            ' @-@ ','-').replace('\\\\', ' \\\\ ').replace('\"',\"'\").replace('(', ' ( ').replace('[', '[ ').replace(\n",
    "            '->', ' -> ').replace('<', '').replace('>', '').strip()\n",
    "    return re1.sub(' ', html.unescape(x).strip())\n",
    "\n",
    "\n",
    "\n",
    "\n",
    "re1 = re.compile(r'  +')\n",
    "def clean_title(text, remove_html=False, other=False):\n",
    "    \n",
    "    replace_by_space_re = re.compile('[/(){}\\[\\]\\|@,;]')\n",
    "    bad_symbols_re = re.compile('[^0-9a-z #+_]')\n",
    "    \n",
    "    if remove_html:\n",
    "        x = re.sub(r'<code>[^>]*</code>', '', x)\n",
    "        x = re.sub(r'<[^>]*>', '', x)\n",
    "        x = re.sub(r'[^A-Za-z0-9]', ' ', x)\n",
    "    text = text.lower()\n",
    "    text = text.replace('π', 'pi').replace('#39;', \"'\").replace('amp;', '&').replace('#146;', \"'\").replace(\n",
    "            'nbsp;', ' ').replace('#36;', '$').replace('\\\\n', \"\\n\").replace('quot;', \"'\").replace(\n",
    "            '<br />', \"\\n\").replace('\\\\\"', '').replace('<unk>','u_n').replace(' @.@ ','.').replace(\n",
    "            ' @-@ ','-').replace('\\\\', ' \\\\ ').replace('\"',\"'\").replace('\\n', ' ').replace('\\r', ' ')\n",
    "    text = replace_by_space_re.sub(' ', text)\n",
    "    text = bad_symbols_re.sub('', text)\n",
    "    text = ' '.join([x for x in text.split() if x and x not in stopwords_set])\n",
    "    return re1.sub(' ', html.unescape(text).strip())\n",
    "\n",
    "\n",
    "import sqlite3\n",
    "DB_NAME = 'StackOverflow_python.db'\n",
    "\n",
    "connection = sqlite3.connect(DB_NAME)\n",
    "c = connection.cursor() \n",
    "\n",
    "def get_data(column):\n",
    "#     df = pd.read_sql(\"SELECT {} FROM posts WHERE parent_id is NULL\".format(column), \n",
    "#                  connection, chunksize=10000)\n",
    "    df = pd.read_sql(\"SELECT {} FROM posts WHERE parent_id is NOT NULL\".format(column), \n",
    "                 connection, chunksize=10000)\n",
    "    all_text = preprocess(df)\n",
    "    return all_text\n",
    "    \n",
    "\n",
    "def find_parent(pid):\n",
    "    try:\n",
    "        sql = \"SELECT comment FROM posts WHERE comment_id = '{}' LIMIT 1\".format(pid)\n",
    "        c.execute(sql)\n",
    "        result = c.fetchone()\n",
    "        if result != None: return result[0]\n",
    "        else: return False\n",
    "    except Exception as e:\n",
    "#         print(str(e))\n",
    "        return False\n",
    "\n",
    "\n",
    "def find_parent_pandas(pids):\n",
    "        print(pids)\n",
    "        neighbor_length = '?,' * len(pids)\n",
    "        df = pd.read_sql(\"SELECT title FROM posts WHERE comment_id IN ({})\".format(neighbor_length[:-1]), \n",
    "                                         connection, params=tuple(pids))\n",
    "        return df\n",
    "    \n",
    "def accectable(row):\n",
    "    if not 'code' in row:\n",
    "        return row\n",
    "        \n",
    "        \n",
    "\n",
    "    \n",
    "    \n",
    "    \n",
    "def preprocess(df):\n",
    "#     final_df = pd.DataFrame(columns=['comment_id', 'title', 'comment'])\n",
    "#     final_df = pd.DataFrame(columns=['comment', 'parent_id', 'score', 'title'])\n",
    "    final_df = pd.DataFrame(columns=['title', 'comment', 'score'])\n",
    "    for i, data in enumerate(df):\n",
    "#         data['title'] = data['title'].map(lambda x: clean_title(x))\n",
    "#         data['comment'] = data['comment'].map(lambda x: accectable(x))\n",
    "        # drop columns that have 'code' in them\n",
    "#         data = data.replace(to_replace='None', value=np.nan).dropna()\n",
    "        data['comment'] = data['comment'].map(lambda x: clean_text(x))\n",
    "\n",
    "        data['title'] = data['parent_id'].map(lambda x: find_parent(x))\n",
    "        data['title'] = data['title'].map(lambda x: clean_text(x))\n",
    "        # keep only highest scoring comment \n",
    "        data = data.groupby('parent_id', as_index=False).max()\n",
    "        final_df = final_df.append(data[['title', 'comment', 'score']])\n",
    "    return final_df\n",
    "\n",
    "# df = get_data('comment_id, title, comment')\n",
    "df = get_data('comment, parent_id, score')\n",
    "df = df[df.score > 0]\n",
    "df = df[['title', 'comment']]\n",
    "print(df.shape)\n",
    "df.head()"
   ]
  },
  {
   "cell_type": "code",
   "execution_count": 8,
   "metadata": {},
   "outputs": [
    {
     "data": {
      "text/plain": [
       "(430392, 2)"
      ]
     },
     "execution_count": 8,
     "metadata": {},
     "output_type": "execute_result"
    }
   ],
   "source": [
    "df['title'].replace('', np.nan, inplace=True)\n",
    "df['comment'].replace('', np.nan, inplace=True)\n",
    "df.dropna(subset=['title', 'comment'], inplace=True)\n",
    "\n",
    "df = df[df['comment'].map(len) > 100]\n",
    "df = df[df['title'].map(len) > 20]\n",
    "df.shape"
   ]
  },
  {
   "cell_type": "code",
   "execution_count": 12,
   "metadata": {},
   "outputs": [
    {
     "data": {
      "text/html": [
       "<div>\n",
       "<style scoped>\n",
       "    .dataframe tbody tr th:only-of-type {\n",
       "        vertical-align: middle;\n",
       "    }\n",
       "\n",
       "    .dataframe tbody tr th {\n",
       "        vertical-align: top;\n",
       "    }\n",
       "\n",
       "    .dataframe thead th {\n",
       "        text-align: right;\n",
       "    }\n",
       "</style>\n",
       "<table border=\"1\" class=\"dataframe\">\n",
       "  <thead>\n",
       "    <tr style=\"text-align: right;\">\n",
       "      <th></th>\n",
       "      <th>title</th>\n",
       "      <th>comment</th>\n",
       "    </tr>\n",
       "  </thead>\n",
       "  <tbody>\n",
       "    <tr>\n",
       "      <th>0</th>\n",
       "      <td>I am about to build a piece of a project that ...</td>\n",
       "      <td>Since you mentioned that you'll be building 'f...</td>\n",
       "    </tr>\n",
       "    <tr>\n",
       "      <th>1</th>\n",
       "      <td>I am using the Photoshop's javascript API to f...</td>\n",
       "      <td>open up a terminal ( Applications - Utilities ...</td>\n",
       "    </tr>\n",
       "    <tr>\n",
       "      <th>2</th>\n",
       "      <td>I have a cross-platform ( Python) application ...</td>\n",
       "      <td>Is the PC likely to have Acrobat installed? I ...</td>\n",
       "    </tr>\n",
       "    <tr>\n",
       "      <th>4</th>\n",
       "      <td>There are several ways to iterate over a resul...</td>\n",
       "      <td>There's also the way seems to do it... From wh...</td>\n",
       "    </tr>\n",
       "    <tr>\n",
       "      <th>5</th>\n",
       "      <td>I don't remember whether I was dreaming or not...</td>\n",
       "      <td>you could always write one yourself: will work...</td>\n",
       "    </tr>\n",
       "  </tbody>\n",
       "</table>\n",
       "</div>"
      ],
      "text/plain": [
       "                                               title  \\\n",
       "0  I am about to build a piece of a project that ...   \n",
       "1  I am using the Photoshop's javascript API to f...   \n",
       "2  I have a cross-platform ( Python) application ...   \n",
       "4  There are several ways to iterate over a resul...   \n",
       "5  I don't remember whether I was dreaming or not...   \n",
       "\n",
       "                                             comment  \n",
       "0  Since you mentioned that you'll be building 'f...  \n",
       "1  open up a terminal ( Applications - Utilities ...  \n",
       "2  Is the PC likely to have Acrobat installed? I ...  \n",
       "4  There's also the way seems to do it... From wh...  \n",
       "5  you could always write one yourself: will work...  "
      ]
     },
     "execution_count": 12,
     "metadata": {},
     "output_type": "execute_result"
    }
   ],
   "source": [
    "df.head()"
   ]
  },
  {
   "cell_type": "code",
   "execution_count": 53,
   "metadata": {},
   "outputs": [
    {
     "data": {
      "text/plain": [
       "(495, 2)"
      ]
     },
     "execution_count": 53,
     "metadata": {},
     "output_type": "execute_result"
    }
   ],
   "source": [
    "# sample_df = df.sample(1000)\n",
    "# sample_df\n",
    "# sample_df['title'].replace('', np.nan, inplace=True)\n",
    "# sample_df['comment'].replace('', np.nan, inplace=True)\n",
    "# sample_df.dropna(subset=['title', 'comment'], inplace=True)\n",
    "\n",
    "# sample_df = sample_df[sample_df['comment'].map(len) > 100]\n",
    "# sample_df = sample_df[sample_df['title'].map(len) > 20]\n",
    "# sample_df = sample_df[sample_df['comment'].map(lambda x: x.split() > 2)]\n",
    "# filter1 = sample_df['title'] != ''\n",
    "# filter2 = sample_df['comment'] != ''\n",
    "# sample_df = sample_df[filter1]\n",
    "# sample_df.reset_index(inplace=True, drop=True)\n",
    "# sample_df = sample_df[~sample_df.index.duplicated()]\n",
    "# sample_df = sample_df[filter2]\n",
    "# sample_df = sample_df[filter2]\n",
    "# sample_df['comment'].map(lambda x: accectable(x))\n",
    "# # sample_df.dropna(inplace=True, axis=1)\n",
    "# sample_df = sample_df[sample_df.astype(str).ne('None').all(1)].dropna()\n",
    "# # sample_df.mask(sample_df.astype(object).eq('None')).dropna(inplace=True, subset=['comment'])\n",
    "# sample_df.shape\n",
    "# print(df.comment.map(len))"
   ]
  },
  {
   "cell_type": "code",
   "execution_count": 20,
   "metadata": {},
   "outputs": [
    {
     "name": "stderr",
     "output_type": "stream",
     "text": [
      "/home/matt/anaconda3/lib/python3.6/site-packages/ipykernel_launcher.py:4: SettingWithCopyWarning: \n",
      "A value is trying to be set on a copy of a slice from a DataFrame.\n",
      "Try using .loc[row_indexer,col_indexer] = value instead\n",
      "\n",
      "See the caveats in the documentation: http://pandas.pydata.org/pandas-docs/stable/indexing.html#indexing-view-versus-copy\n",
      "  after removing the cwd from sys.path.\n",
      "/home/matt/anaconda3/lib/python3.6/site-packages/ipykernel_launcher.py:5: SettingWithCopyWarning: \n",
      "A value is trying to be set on a copy of a slice from a DataFrame.\n",
      "Try using .loc[row_indexer,col_indexer] = value instead\n",
      "\n",
      "See the caveats in the documentation: http://pandas.pydata.org/pandas-docs/stable/indexing.html#indexing-view-versus-copy\n",
      "  \"\"\"\n"
     ]
    },
    {
     "data": {
      "text/plain": [
       "(387352, 43040)"
      ]
     },
     "execution_count": 20,
     "metadata": {},
     "output_type": "execute_result"
    }
   ],
   "source": [
    "from sklearn.model_selection import train_test_split\n",
    "\n",
    "train_df, val_df = train_test_split(df, test_size=0.1) \n",
    "train_df['labels'] = 0\n",
    "val_df['labels'] = 0\n",
    "len(train_df), len(val_df)"
   ]
  },
  {
   "cell_type": "code",
   "execution_count": 21,
   "metadata": {},
   "outputs": [],
   "source": [
    "col_names = ['labels','title','comment']\n",
    "# df_trn = pd.DataFrame({'text':train_text, 'labels':[0]*len(train_text)}, columns=col_names)\n",
    "# df_val = pd.DataFrame({'text':val_text, 'labels':[0]*len(val_text)}, columns=col_names)\n",
    "\n",
    "train_df[col_names].to_csv(LM_PATH/'train.csv', header=False, index=False)\n",
    "val_df[col_names].to_csv(LM_PATH/'test.csv', header=False, index=False)"
   ]
  },
  {
   "cell_type": "code",
   "execution_count": 46,
   "metadata": {},
   "outputs": [
    {
     "name": "stderr",
     "output_type": "stream",
     "text": [
      "/home/matt/anaconda3/lib/python3.6/site-packages/ipykernel_launcher.py:51: DeprecationWarning: 'U' mode is deprecated\n",
      "/home/matt/anaconda3/lib/python3.6/site-packages/ipykernel_launcher.py:52: DeprecationWarning: 'U' mode is deprecated\n"
     ]
    },
    {
     "name": "stdout",
     "output_type": "stream",
     "text": [
      "0\n",
      "1\n",
      "2\n",
      "3\n",
      "4\n",
      "5\n",
      "6\n",
      "7\n",
      "8\n",
      "9\n",
      "10\n",
      "11\n",
      "12\n",
      "13\n",
      "14\n",
      "15\n",
      "16\n",
      "0\n",
      "1\n",
      "CPU times: user 29.4 s, sys: 10.9 s, total: 40.4 s\n",
      "Wall time: 3min 43s\n"
     ]
    }
   ],
   "source": [
    "%%time\n",
    "chunksize = 24000\n",
    "re1 = re.compile(r'  +')\n",
    "\n",
    "def fixup(x):\n",
    "    x = x.replace('#39;', \"'\").replace('amp;', '&').replace('#146;', \"'\").replace(\n",
    "        'nbsp;', ' ').replace('#36;', '$').replace('\\\\n', \"\\n\").replace('quot;', \"'\").replace(\n",
    "        '<br />', \"\\n\").replace('\\\\\"', '\"').replace('<unk>','u_n').replace(' @.@ ','.').replace(\n",
    "        ' @-@ ','-').replace('\\\\', ' \\\\ ').replace('\\r', ' ')\n",
    "    return re1.sub(' ', html.unescape(x))\n",
    "\n",
    "# def get_texts(df, n_lbls=1):\n",
    "#     labels = df.iloc[:,range(n_lbls)].values.astype(np.int64)\n",
    "# #     labels = df.iloc[:,0].values.astype(np.int64)\n",
    "#     texts = f'\\n{BOS} {FLD} 1 ' + df[n_lbls].astype(str)\n",
    "#     for i in range(n_lbls+1, len(df.columns)): texts += f' {FLD} {i-n_lbls} ' + df[i].astype(str)\n",
    "#     texts = list(texts.apply(fixup).values)\n",
    "\n",
    "#     tok = Tokenizer().proc_all_mp(partition_by_cores(texts))\n",
    "#     return tok, list(labels)\n",
    "\n",
    "def get_texts(df, n_lbls=1):\n",
    "#     labels = df.iloc[:,range(n_lbls)].values.astype(np.int64)\n",
    "#     labels = df.iloc[:,0].values.astype(np.int64)\n",
    "    texts = f'\\n{BOS} {FLD} 1 ' + df[n_lbls].astype(str)\n",
    "    for i in range(n_lbls+1, len(df.columns)): texts += f' {FLD} {i-n_lbls} ' + df[i].astype(str)\n",
    "    texts = list(texts.apply(fixup).values)\n",
    "\n",
    "    tok = Tokenizer().proc_all_mp(partition_by_cores(texts))\n",
    "    return tok\n",
    "\n",
    "def get_all(df, n_lbls):\n",
    "    tok=[]\n",
    "    for i, r in enumerate(df):\n",
    "        print(i)\n",
    "        tok_ = get_texts(r, n_lbls)\n",
    "        tok += tok_;\n",
    "#         labels += labels_\n",
    "    return tok\n",
    "\n",
    "# def get_all(df, n_lbls):\n",
    "#     tok, labels = [], []\n",
    "#     for i, r in enumerate(df):\n",
    "#         print(i)\n",
    "#         tok_, labels_ = get_texts(r, n_lbls)\n",
    "#         tok += tok_;\n",
    "#         labels += labels_\n",
    "#     return tok, labels\n",
    "\n",
    "# train_df = pd.read_csv(LM_PATH/'train.csv', header=None, chunksize=chunksize, engine='python')\n",
    "# val_df = pd.read_csv(LM_PATH/'test.csv', header=None, chunksize=chunksize, engine='python')\n",
    "train_df = pd.read_csv(open(LM_PATH/'train.csv','rU'), header=None, chunksize=chunksize, engine='python')\n",
    "val_df = pd.read_csv(open(LM_PATH/'test.csv','rU'), header=None, chunksize=chunksize, engine='python')\n",
    "\n",
    "# tok_trn, trn_labels = get_all(train_df, 1)\n",
    "# tok_val, val_labels = get_all(val_df, 1)\n",
    "tok_trn = get_all(train_df, 1)\n",
    "tok_val = get_all(val_df, 1)"
   ]
  },
  {
   "cell_type": "code",
   "execution_count": 48,
   "metadata": {},
   "outputs": [
    {
     "name": "stdout",
     "output_type": "stream",
     "text": [
      "\n",
      " xbos xfld 1 what is the most straightforward way to edit some fields from a batch of objects using a formset ( see below ) , while displaying along other fields from these models objects ? for example : i want to display the title of a set of 10 book objects and a form for each one in which it is possible to edit their t_up isbn and description . xfld 1 according to the doc : a model form instance bound to a model object will contain a attribute that gives model form methods access to that specific model instance . thus when you have a formset of model such as you could iterate it in template like : { % for f in formset % } { % if f.instance.pk % } title : { { f.instance.title } } { % endif % } { { f } } { % endfor % }\n"
     ]
    }
   ],
   "source": [
    "print(' '.join(tok_trn[102]))\n",
    "# len(' '.join(tok_trn[100]).split())"
   ]
  },
  {
   "cell_type": "code",
   "execution_count": 49,
   "metadata": {},
   "outputs": [],
   "source": [
    "SAVE = True\n",
    "LOAD = False\n",
    "\n",
    "(LM_PATH/'tmp').mkdir(exist_ok=True)\n",
    "if SAVE:\n",
    "    np.save(LM_PATH/'tmp'/'tok_trn.npy', tok_trn)\n",
    "    np.save(LM_PATH/'tmp'/'tok_val.npy', tok_val)\n",
    "if LOAD:\n",
    "    tok_trn = np.load(LM_PATH/'tmp'/'tok_trn.npy')\n",
    "    tok_val = np.load(LM_PATH/'tmp'/'tok_val.npy')"
   ]
  },
  {
   "cell_type": "code",
   "execution_count": 50,
   "metadata": {},
   "outputs": [
    {
     "data": {
      "text/plain": [
       "[('the', 3395942),\n",
       " (',', 3131665),\n",
       " ('.', 2554077),\n",
       " ('to', 2122875),\n",
       " ('i', 1985212),\n",
       " (\"'\", 1755576),\n",
       " ('a', 1654550),\n",
       " (':', 1475131),\n",
       " ('(', 1437408),\n",
       " (')', 1366123),\n",
       " ('is', 1284789),\n",
       " ('in', 1148273),\n",
       " ('and', 1089119),\n",
       " ('1', 999383),\n",
       " ('of', 997465),\n",
       " ('you', 945037),\n",
       " ('it', 891052),\n",
       " ('this', 815361),\n",
       " ('xfld', 774714),\n",
       " ('that', 739769),\n",
       " ('for', 660021),\n",
       " ('t_up', 490804),\n",
       " ('=', 485826),\n",
       " ('with', 476949),\n",
       " ('if', 463761)]"
      ]
     },
     "execution_count": 50,
     "metadata": {},
     "output_type": "execute_result"
    }
   ],
   "source": [
    "freq = Counter(p for o in tok_trn for p in o)\n",
    "freq.most_common(25)"
   ]
  },
  {
   "cell_type": "code",
   "execution_count": 51,
   "metadata": {},
   "outputs": [],
   "source": [
    "max_vocab = 60000\n",
    "min_freq = 2\n",
    "\n",
    "itos = [o for o, c in freq.most_common(max_vocab) if c > min_freq]\n",
    "itos.insert(0, '_pad_')\n",
    "itos.insert(0, '_unk_')"
   ]
  },
  {
   "cell_type": "code",
   "execution_count": 52,
   "metadata": {},
   "outputs": [
    {
     "data": {
      "text/plain": [
       "60002"
      ]
     },
     "execution_count": 52,
     "metadata": {},
     "output_type": "execute_result"
    }
   ],
   "source": [
    "stoi = collections.defaultdict(lambda:0, {v:k for k,v in enumerate(itos)})\n",
    "len(itos)"
   ]
  },
  {
   "cell_type": "code",
   "execution_count": 53,
   "metadata": {},
   "outputs": [],
   "source": [
    "trn_lm = np.array([[stoi[o] for o in p] for p in tok_trn])\n",
    "val_lm = np.array([[stoi[o] for o in p] for p in tok_val])"
   ]
  },
  {
   "cell_type": "code",
   "execution_count": 2,
   "metadata": {},
   "outputs": [
    {
     "data": {
      "text/plain": [
       "(60002, 387357)"
      ]
     },
     "execution_count": 2,
     "metadata": {},
     "output_type": "execute_result"
    }
   ],
   "source": [
    "SAVE = False\n",
    "LOAD = True\n",
    "\n",
    "\n",
    "if SAVE:\n",
    "    np.save(LM_PATH/'tmp'/'trn_ids.npy', trn_lm)\n",
    "    np.save(LM_PATH/'tmp'/'val_ids.npy', val_lm)\n",
    "    pickle.dump(itos, open(LM_PATH/'tmp'/'itos.pkl', 'wb'))\n",
    "if LOAD:\n",
    "    trn_lm = np.load(LM_PATH/'tmp'/'trn_ids.npy')\n",
    "    val_lm = np.load(LM_PATH/'tmp'/'val_ids.npy')\n",
    "    itos = pickle.load(open(LM_PATH/'tmp'/'itos.pkl', 'rb'))\n",
    "\n",
    "vs=len(itos)\n",
    "vs, len(trn_lm)"
   ]
  },
  {
   "cell_type": "code",
   "execution_count": null,
   "metadata": {},
   "outputs": [],
   "source": []
  },
  {
   "cell_type": "markdown",
   "metadata": {},
   "source": [
    "# wikitext103 conversion"
   ]
  },
  {
   "cell_type": "code",
   "execution_count": 12,
   "metadata": {},
   "outputs": [],
   "source": [
    "em_sz = 400\n",
    "nh = 1150\n",
    "nl = 3\n",
    "\n",
    "PRE_PATH = PATH/'models'/'wt103'\n",
    "PRE_LM_PATH = PRE_PATH/'fwd_wt103.h5'"
   ]
  },
  {
   "cell_type": "code",
   "execution_count": 13,
   "metadata": {},
   "outputs": [],
   "source": [
    "wgts = torch.load(PRE_LM_PATH, map_location=lambda storage, loc: storage)"
   ]
  },
  {
   "cell_type": "code",
   "execution_count": 14,
   "metadata": {},
   "outputs": [],
   "source": [
    "enc_wgts = to_np(wgts['0.encoder.weight'])\n",
    "row_m = enc_wgts.mean(0)"
   ]
  },
  {
   "cell_type": "code",
   "execution_count": 15,
   "metadata": {},
   "outputs": [],
   "source": [
    "itos2 = pickle.load((PRE_PATH/'itos_wt103.pkl').open('rb'))\n",
    "stoi2 = collections.defaultdict(lambda:-1, {v:k for k,v in enumerate(itos2)})"
   ]
  },
  {
   "cell_type": "code",
   "execution_count": 16,
   "metadata": {},
   "outputs": [],
   "source": [
    "new_w = np.zeros((vs, em_sz), dtype=np.float32)\n",
    "for i,w in enumerate(itos):\n",
    "    r = stoi2[w]\n",
    "    new_w[i] = enc_wgts[r] if r >= 0 else row_m"
   ]
  },
  {
   "cell_type": "code",
   "execution_count": 17,
   "metadata": {},
   "outputs": [],
   "source": [
    "wgts['0.encoder.weight'] = T(new_w)\n",
    "wgts['0.encoder_with_dropout.embed.weight'] = T(np.copy(new_w))\n",
    "wgts['1.decoder.weight'] = T(np.copy(new_w))"
   ]
  },
  {
   "cell_type": "markdown",
   "metadata": {},
   "source": [
    "# Language model"
   ]
  },
  {
   "cell_type": "code",
   "execution_count": 18,
   "metadata": {},
   "outputs": [],
   "source": [
    "wd = 1e-7\n",
    "bptt = 70\n",
    "bs = 52\n",
    "opt_fn = partial(optim.Adam, betas=(0.8, 0.99))"
   ]
  },
  {
   "cell_type": "code",
   "execution_count": 19,
   "metadata": {},
   "outputs": [],
   "source": [
    "trn_dl = LanguageModelLoader(np.concatenate(trn_lm), bs, bptt)\n",
    "val_dl = LanguageModelLoader(np.concatenate(val_lm), bs, bptt)\n",
    "md = LanguageModelData(MODEL_PATH, 1, vs, trn_dl, val_dl, bs=bs, bptt=bptt)"
   ]
  },
  {
   "cell_type": "code",
   "execution_count": 20,
   "metadata": {},
   "outputs": [],
   "source": [
    "drops = np.array([0.25, 0.1, 0.2, 0.02, 0.15])*0.7"
   ]
  },
  {
   "cell_type": "code",
   "execution_count": 21,
   "metadata": {},
   "outputs": [],
   "source": [
    "learner= md.get_model(opt_fn, em_sz, nh, nl, \n",
    "    dropouti=drops[0], dropout=drops[1], wdrop=drops[2], dropoute=drops[3], dropouth=drops[4])"
   ]
  },
  {
   "cell_type": "code",
   "execution_count": 22,
   "metadata": {},
   "outputs": [],
   "source": [
    "learner.metrics = [accuracy]\n",
    "learner.freeze_to(-1)"
   ]
  },
  {
   "cell_type": "code",
   "execution_count": 23,
   "metadata": {},
   "outputs": [],
   "source": [
    "learner.model.load_state_dict(wgts)"
   ]
  },
  {
   "cell_type": "code",
   "execution_count": 24,
   "metadata": {},
   "outputs": [],
   "source": [
    "lr = 1e-3\n",
    "lrs = lr"
   ]
  },
  {
   "cell_type": "code",
   "execution_count": 67,
   "metadata": {},
   "outputs": [
    {
     "data": {
      "application/vnd.jupyter.widget-view+json": {
       "model_id": "0be0e02a8ae346e6bf2bf3e443b1deb4",
       "version_major": 2,
       "version_minor": 0
      },
      "text/html": [
       "<p>Failed to display Jupyter Widget of type <code>HBox</code>.</p>\n",
       "<p>\n",
       "  If you're reading this message in the Jupyter Notebook or JupyterLab Notebook, it may mean\n",
       "  that the widgets JavaScript is still loading. If this message persists, it\n",
       "  likely means that the widgets JavaScript library is either not installed or\n",
       "  not enabled. See the <a href=\"https://ipywidgets.readthedocs.io/en/stable/user_install.html\">Jupyter\n",
       "  Widgets Documentation</a> for setup instructions.\n",
       "</p>\n",
       "<p>\n",
       "  If you're reading this message in another frontend (for example, a static\n",
       "  rendering on GitHub or <a href=\"https://nbviewer.jupyter.org/\">NBViewer</a>),\n",
       "  it may mean that your frontend doesn't currently support widgets.\n",
       "</p>\n"
      ],
      "text/plain": [
       "HBox(children=(IntProgress(value=0, description='Epoch', max=1), HTML(value='')))"
      ]
     },
     "metadata": {},
     "output_type": "display_data"
    },
    {
     "name": "stdout",
     "output_type": "stream",
     "text": [
      "epoch      trn_loss   val_loss   accuracy                       \n",
      "    0      4.196309   3.953876   0.295064  \n",
      "\n"
     ]
    },
    {
     "data": {
      "text/plain": [
       "[array([3.95388]), 0.2950637081636322]"
      ]
     },
     "execution_count": 67,
     "metadata": {},
     "output_type": "execute_result"
    }
   ],
   "source": [
    "learner.fit(lrs/2, 1, wds=wd, use_clr=(32,2), cycle_len=1)"
   ]
  },
  {
   "cell_type": "code",
   "execution_count": 68,
   "metadata": {},
   "outputs": [],
   "source": [
    "learner.save('lm_last_ft')"
   ]
  },
  {
   "cell_type": "code",
   "execution_count": 25,
   "metadata": {},
   "outputs": [],
   "source": [
    "learner.load('lm_last_ft')"
   ]
  },
  {
   "cell_type": "code",
   "execution_count": 26,
   "metadata": {},
   "outputs": [],
   "source": [
    "learner.unfreeze()"
   ]
  },
  {
   "cell_type": "code",
   "execution_count": 71,
   "metadata": {},
   "outputs": [
    {
     "data": {
      "application/vnd.jupyter.widget-view+json": {
       "model_id": "5f0e805a68c446c8b50a3ef5e08abf68",
       "version_major": 2,
       "version_minor": 0
      },
      "text/html": [
       "<p>Failed to display Jupyter Widget of type <code>HBox</code>.</p>\n",
       "<p>\n",
       "  If you're reading this message in the Jupyter Notebook or JupyterLab Notebook, it may mean\n",
       "  that the widgets JavaScript is still loading. If this message persists, it\n",
       "  likely means that the widgets JavaScript library is either not installed or\n",
       "  not enabled. See the <a href=\"https://ipywidgets.readthedocs.io/en/stable/user_install.html\">Jupyter\n",
       "  Widgets Documentation</a> for setup instructions.\n",
       "</p>\n",
       "<p>\n",
       "  If you're reading this message in another frontend (for example, a static\n",
       "  rendering on GitHub or <a href=\"https://nbviewer.jupyter.org/\">NBViewer</a>),\n",
       "  it may mean that your frontend doesn't currently support widgets.\n",
       "</p>\n"
      ],
      "text/plain": [
       "HBox(children=(IntProgress(value=0, description='Epoch', max=1), HTML(value='')))"
      ]
     },
     "metadata": {},
     "output_type": "display_data"
    },
    {
     "name": "stdout",
     "output_type": "stream",
     "text": [
      "epoch      trn_loss   val_loss   accuracy                         \n",
      "    0      3.826643   3.65986    0.33367   \n",
      "\n"
     ]
    }
   ],
   "source": [
    "learner.lr_find(start_lr=lrs/10, end_lr=lrs*10, linear=True)"
   ]
  },
  {
   "cell_type": "code",
   "execution_count": 72,
   "metadata": {},
   "outputs": [
    {
     "data": {
      "image/png": "[encoded data removed]",
      "text/plain": [
       "<matplotlib.figure.Figure at 0x7f47e24e78d0>"
      ]
     },
     "metadata": {},
     "output_type": "display_data"
    }
   ],
   "source": [
    "learner.sched.plot()"
   ]
  },
  {
   "cell_type": "code",
   "execution_count": 18,
   "metadata": {},
   "outputs": [
    {
     "data": {
      "application/vnd.jupyter.widget-view+json": {
       "model_id": "87902f2d43a84b59873abafb5997a02c",
       "version_major": 2,
       "version_minor": 0
      },
      "text/html": [
       "<p>Failed to display Jupyter Widget of type <code>HBox</code>.</p>\n",
       "<p>\n",
       "  If you're reading this message in the Jupyter Notebook or JupyterLab Notebook, it may mean\n",
       "  that the widgets JavaScript is still loading. If this message persists, it\n",
       "  likely means that the widgets JavaScript library is either not installed or\n",
       "  not enabled. See the <a href=\"https://ipywidgets.readthedocs.io/en/stable/user_install.html\">Jupyter\n",
       "  Widgets Documentation</a> for setup instructions.\n",
       "</p>\n",
       "<p>\n",
       "  If you're reading this message in another frontend (for example, a static\n",
       "  rendering on GitHub or <a href=\"https://nbviewer.jupyter.org/\">NBViewer</a>),\n",
       "  it may mean that your frontend doesn't currently support widgets.\n",
       "</p>\n"
      ],
      "text/plain": [
       "HBox(children=(IntProgress(value=0, description='Epoch', max=5), HTML(value='')))"
      ]
     },
     "metadata": {},
     "output_type": "display_data"
    },
    {
     "name": "stdout",
     "output_type": "stream",
     "text": [
      "  0%|          | 24/22813 [00:04<1:05:43,  5.78it/s, loss=4.05] \n",
      "epoch      trn_loss   val_loss                                    \n",
      "    0      3.520859   3.3397    \n",
      "    1      3.414239   3.256222                                    \n",
      "    2      3.382679   3.214397                                    \n",
      "    3      3.345103   3.186118                                    \n",
      "    4      3.317803   3.164937                                    \n",
      "\n"
     ]
    },
    {
     "data": {
      "text/plain": [
       "[array([3.16494])]"
      ]
     },
     "execution_count": 18,
     "metadata": {},
     "output_type": "execute_result"
    }
   ],
   "source": [
    "learner.fit(lrs, 1, wds=wd, use_clr=(20,10), cycle_len=5)"
   ]
  },
  {
   "cell_type": "code",
   "execution_count": 21,
   "metadata": {},
   "outputs": [],
   "source": [
    "learner.save('lm1')"
   ]
  },
  {
   "cell_type": "code",
   "execution_count": 22,
   "metadata": {},
   "outputs": [],
   "source": [
    "learner.save_encoder('lm1_enc')"
   ]
  },
  {
   "cell_type": "code",
   "execution_count": 60,
   "metadata": {},
   "outputs": [],
   "source": [
    "learner.metrics = [accuracy]"
   ]
  },
  {
   "cell_type": "code",
   "execution_count": 61,
   "metadata": {},
   "outputs": [
    {
     "data": {
      "application/vnd.jupyter.widget-view+json": {
       "model_id": "9fe47ef66d134de08902c2ed86c3259e",
       "version_major": 2,
       "version_minor": 0
      },
      "text/html": [
       "<p>Failed to display Jupyter Widget of type <code>HBox</code>.</p>\n",
       "<p>\n",
       "  If you're reading this message in the Jupyter Notebook or JupyterLab Notebook, it may mean\n",
       "  that the widgets JavaScript is still loading. If this message persists, it\n",
       "  likely means that the widgets JavaScript library is either not installed or\n",
       "  not enabled. See the <a href=\"https://ipywidgets.readthedocs.io/en/stable/user_install.html\">Jupyter\n",
       "  Widgets Documentation</a> for setup instructions.\n",
       "</p>\n",
       "<p>\n",
       "  If you're reading this message in another frontend (for example, a static\n",
       "  rendering on GitHub or <a href=\"https://nbviewer.jupyter.org/\">NBViewer</a>),\n",
       "  it may mean that your frontend doesn't currently support widgets.\n",
       "</p>\n"
      ],
      "text/plain": [
       "HBox(children=(IntProgress(value=0, description='Epoch', max=5), HTML(value='')))"
      ]
     },
     "metadata": {},
     "output_type": "display_data"
    },
    {
     "name": "stdout",
     "output_type": "stream",
     "text": [
      "epoch      trn_loss   val_loss   accuracy                         \n",
      "    0      3.404849   3.230745   0.37766   \n",
      "    1      3.3694     3.200477   0.381436                         \n",
      "    2      3.333383   3.17563    0.38456                          \n",
      "    3      3.305569   3.153905   0.387501                         \n",
      "    4      3.268965   3.135937   0.389919                         \n",
      "\n"
     ]
    },
    {
     "data": {
      "text/plain": [
       "[array([3.13594]), 0.3899190162679386]"
      ]
     },
     "execution_count": 61,
     "metadata": {},
     "output_type": "execute_result"
    }
   ],
   "source": [
    "learner.fit(lrs, 1, wds=wd, use_clr=(20,10), cycle_len=5)"
   ]
  },
  {
   "cell_type": "code",
   "execution_count": 62,
   "metadata": {},
   "outputs": [],
   "source": [
    "learner.save('lm1')\n",
    "learner.save_encoder('lm1_enc')"
   ]
  },
  {
   "cell_type": "code",
   "execution_count": 31,
   "metadata": {},
   "outputs": [],
   "source": [
    "import torch\n",
    "\n",
    "m=learner.model\n",
    "\n",
    "stoi = collections.defaultdict(lambda:0, {v:k for k,v in enumerate(itos)})\n",
    "\n",
    "\n",
    "re1 = re.compile(r'  +')\n",
    "def clean_text(x, remove_html=True, other=True):\n",
    "    if remove_html:\n",
    "        x = re.sub(r'<code>[^>]*</code>', '', x)\n",
    "        x = re.sub(r'<[^>]*>', '', x)\n",
    "        x = re.sub(r'(.*\\/).*', '', x)\n",
    "    if other:\n",
    "        x = x.replace('#39;', \"'\").replace('amp;', '&').replace('#146;', \"'\").replace(\n",
    "            'nbsp;', ' ').replace('#36;', '$').replace('\\\\n', \"\\n\").replace('quot;', \"'\").replace(\n",
    "            '<br />', \"\\n\").replace('\\\\\"', '').replace('<unk>','u_n').replace(' @.@ ','.').replace(\n",
    "            ' @-@ ','-').replace('\\\\', ' \\\\ ').replace('\"',\"'\").replace('(', ' ( ').replace('[', '[ ').replace(\n",
    "            '->', ' -> ').replace('<', '').replace('>', '').strip()\n",
    "    return re1.sub(' ', html.unescape(x).strip())\n",
    "\n",
    "\n",
    "\n",
    "\n",
    "def num_str(s):\n",
    "    return [stoi[i] for i in s.split()]\n",
    "\n",
    "def to_batch_tensor(s):\n",
    "    return Variable(torch.Tensor(s)).cuda()\n",
    "\n",
    "\n",
    "def sample_model(m, s, l=50):\n",
    "    t = num_str(clean_text(s))\n",
    "    t = to_batch_tensor(t)\n",
    "    t = t.view(1, -1).long()\n",
    "    m[0].bs = 1\n",
    "    m.eval()\n",
    "    m.reset()\n",
    "    res,*_ = m(t)\n",
    "    print('...', end='')\n",
    "\n",
    "    for i in range(l):\n",
    "        n=res[-1].topk(2)[1]\n",
    "        n = n[1] if n.data[0]==0 else n[0]\n",
    "        word = itos[n.data[0]]\n",
    "        print(word, end=' ')\n",
    "#         if word=='<eos>': break\n",
    "        res,*_ = m(n[0].unsqueeze(0))\n",
    "\n",
    "    m[0].bs = bs\n",
    "    \n",
    "    "
   ]
  },
  {
   "cell_type": "code",
   "execution_count": 32,
   "metadata": {},
   "outputs": [
    {
     "name": "stdout",
     "output_type": "stream",
     "text": [
      "..., and the following : the following : the following : the following : the following : the following : the following : the following : the following : the following : the following : the following : : xfld 1 you can use the following : \n",
      " xbos xfld "
     ]
    }
   ],
   "source": [
    "sample_model(m, \"xbos xfld 1 What is Logistic Regression xfld 1\")"
   ]
  },
  {
   "cell_type": "code",
   "execution_count": 33,
   "metadata": {},
   "outputs": [
    {
     "name": "stdout",
     "output_type": "stream",
     "text": [
      "..., and the following : the following : the following : the following : the following : the following : the following : the following : the following : the following : the following : the following : : xfld 1 you can use the following : \n",
      " xbos xfld 1 i have a list of lists that are in the list . i want to create a list of lists that are in the list . i want to create a list of lists that are in the list . i want to create a list of lists , "
     ]
    }
   ],
   "source": [
    "sample_model(m, \"xbos xfld 1 How to sort a list of strings? xfld 1 \", 100)"
   ]
  },
  {
   "cell_type": "code",
   "execution_count": null,
   "metadata": {},
   "outputs": [],
   "source": []
  }
 ],
 "metadata": {
  "kernelspec": {
   "display_name": "Python 3",
   "language": "python",
   "name": "python3"
  },
  "language_info": {
   "codemirror_mode": {
    "name": "ipython",
    "version": 3
   },
   "file_extension": ".py",
   "mimetype": "text/x-python",
   "name": "python",
   "nbconvert_exporter": "python",
   "pygments_lexer": "ipython3",
   "version": "3.6.4"
  }
 },
 "nbformat": 4,
 "nbformat_minor": 2
}
