{
 "cells": [
  {
   "cell_type": "code",
   "execution_count": 1,
   "metadata": {},
   "outputs": [],
   "source": [
    "import re \n",
    "from nltk.corpus import stopwords\n",
    "import codecs\n",
    "from pathlib import Path\n",
    "\n",
    "DATA_PATH = Path('data/')\n",
    "stopwords_set = set(stopwords.words('english'))\n",
    "\n",
    "def text_prepare(text):\n",
    "    replace_by_space_re = re.compile('[/(){}\\[\\]\\|@,;]')\n",
    "    bad_symbols_re = re.compile('[^0-9a-z #+_]')\n",
    "    stopwords_set = set(stopwords.words('english'))\n",
    "    \n",
    "    text = replace_by_space_re.sub(' ', text.lower())\n",
    "    text = bad_symbols_re.sub('', text)\n",
    "    text = ' '.join([token for token in text.split() if token and token not in stopwords_set])\n",
    "    return text.strip()\n",
    "\n",
    "def prepare_file(in_, out_):\n",
    "    out = open(out_, 'w')\n",
    "    for line in open(in_, encoding='utf8'):\n",
    "        line = line.strip().split('\\t')\n",
    "        new_line = [text_prepare(q) for q in line]\n",
    "        print(*new_line, sep='\\t', file=out)\n",
    "    out.close()"
   ]
  },
  {
   "cell_type": "code",
   "execution_count": 2,
   "metadata": {},
   "outputs": [],
   "source": [
    "prepare_file(DATA_PATH/'train.tsv', DATA_PATH/'starspace_train.tsv')"
   ]
  },
  {
   "cell_type": "code",
   "execution_count": 2,
   "metadata": {},
   "outputs": [
    {
     "name": "stdout",
     "output_type": "stream",
     "text": [
      "Process is interrupted.\n"
     ]
    }
   ],
   "source": [
    "%%bash\n",
    "starspace train -trainFile 'data/starspace_train.tsv' -model starspace_embedding \\\n",
    "-trainMode 3 \\\n",
    "-adagrad true \\\n",
    "-ngrams 1 \\\n",
    "-epoch 5 \\\n",
    "-dim 100 \\\n",
    "-similarity \"cosine\" \\\n",
    "-minCount 2 \\\n",
    "-verbose true \\\n",
    "-fileFormat labelDoc \\\n",
    "-negSearchLimit 10 \\\n",
    "-lr 0.05 \\\n",
    "-thread 4"
   ]
  },
  {
   "cell_type": "code",
   "execution_count": 4,
   "metadata": {},
   "outputs": [
    {
     "name": "stdout",
     "output_type": "stream",
     "text": [
      "Arguments: \n",
      "lr: 0.05\n",
      "dim: 100\n",
      "epoch: 5\n",
      "maxTrainTime: 8640000\n",
      "saveEveryEpoch: 0\n",
      "loss: hinge\n",
      "margin: 0.05\n",
      "similarity: cosine\n",
      "maxNegSamples: 10\n",
      "negSearchLimit: 10\n",
      "thread: 4\n",
      "minCount: 2\n",
      "minCountLabel: 1\n",
      "label: __label__\n",
      "ngrams: 1\n",
      "bucket: 2000000\n",
      "adagrad: 1\n",
      "trainMode: 3\n",
      "fileFormat: labelDoc\n",
      "normalizeText: 0\n",
      "dropoutLHS: 0\n",
      "dropoutRHS: 0\n",
      "Start to initialize starspace model.\n",
      "Build dict from input file : data/starspace_train.tsv\n",
      "Read 12M words\n",
      "Number of words in dictionary:  95058\n",
      "Number of labels in dictionary: 0\n",
      "Loading data from file : data/starspace_train.tsv\n",
      "Total number of examples loaded : 999740\n",
      "Initialized model weights. Model size :\n",
      "matrix : 95058 100\n",
      "Training epoch 0: 0.05 0.01\n",
      "Epoch: 100.0%  lr: 0.040020  loss: 0.008152  eta: 0h6m  tot: 0h1m37s  (20.0%)  tot: 0h0m4s  (0.9%)0.017044  eta: 0h8m  tot: 0h0m11s  (2.3%)0h8m  tot: 0h0m20s  (4.1%)0h7m  tot: 0h0m25s  (5.0%)0.012744  eta: 0h7m  tot: 0h0m27s  (5.4%)0.012498  eta: 0h7m  tot: 0h0m28s  (5.7%)0h7m  tot: 0h0m30s  (6.2%)0h7m  tot: 0h0m45s  (9.1%)0h7m  tot: 0h0m46s  (9.5%)0h7m  tot: 0h0m52s  (10.6%)0.008395  eta: 0h6m  tot: 0h1m29s  (18.2%)0.008340  eta: 0h6m  tot: 0h1m31s  (18.6%)\n",
      " ---+++                Epoch    0 Train error : 0.00821654 +++--- ☃\n",
      "Training epoch 1: 0.04 0.01\n",
      "Epoch: 100.0%  lr: 0.030000  loss: 0.002584  eta: 0h4m  tot: 0h3m11s  (40.0%)002546  eta: 0h6m  tot: 0h1m43s  (21.2%)0h5m  tot: 0h1m57s  (24.1%)0.002623  eta: 0h5m  tot: 0h1m58s  (24.4%)0h5m  tot: 0h2m0s  (24.9%)  eta: 0h5m  tot: 0h2m5s  (25.8%)  eta: 0h5m  tot: 0h2m12s  (27.4%)0h5m  tot: 0h2m18s  (28.6%)0h5m  tot: 0h2m21s  (29.4%)0.002610  eta: 0h5m  tot: 0h2m22s  (29.5%)  eta: 0h5m  tot: 0h2m27s  (30.5%)0.002620  eta: 0h5m  tot: 0h2m29s  (30.9%)5m  tot: 0h2m44s  (34.2%)0.002593  eta: 0h5m  tot: 0h2m52s  (35.8%)0h4m  tot: 0h2m58s  (37.3%)0h4m  tot: 0h3m10s  (39.8%)\n",
      " ---+++                Epoch    1 Train error : 0.00256399 +++--- ☃\n",
      "Training epoch 2: 0.03 0.01\n",
      "Epoch: 100.0%  lr: 0.020000  loss: 0.001841  eta: 0h3m  tot: 0h4m44s  (60.0%)4m  tot: 0h3m12s  (40.1%)0h4m  tot: 0h3m21s  (42.1%)0.001760  eta: 0h4m  tot: 0h3m24s  (42.7%)0.001798  eta: 0h4m  tot: 0h3m28s  (43.6%)0h4m  tot: 0h3m30s  (44.0%)0.001776  eta: 0h4m  tot: 0h3m31s  (44.3%)0.001789  eta: 0h4m  tot: 0h3m33s  (44.8%)4m  tot: 0h3m34s  (44.8%)0.001807  eta: 0h4m  tot: 0h3m38s  (45.8%)0h4m  tot: 0h3m49s  (48.1%)0h4m  tot: 0h3m50s  (48.3%)  loss: 0.001804  eta: 0h3m  tot: 0h3m52s  (48.7%)0h3m  tot: 0h3m55s  (49.3%)0.001812  eta: 0h3m  tot: 0h4m5s  (51.5%)0h3m  tot: 0h4m5s  (51.6%)  eta: 0h3m  tot: 0h4m9s  (52.4%)0h3m  tot: 0h4m23s  (55.5%)0h3m  tot: 0h4m26s  (56.2%)0.001836  eta: 0h3m  tot: 0h4m39s  (58.9%)0h3m  tot: 0h4m44s  (59.9%)\n",
      " ---+++                Epoch    2 Train error : 0.00185674 +++--- ☃\n",
      "Training epoch 3: 0.02 0.01\n",
      "Epoch: 100.0%  lr: 0.010000  loss: 0.001532  eta: 0h1m  tot: 0h6m17s  (80.0%)01498  eta: 0h2m  tot: 0h5m2s  (63.8%)0h2m  tot: 0h5m4s  (64.3%)0h2m  tot: 0h5m6s  (64.6%)h2m  tot: 0h5m10s  (65.5%)0.001508  eta: 0h2m  tot: 0h5m10s  (65.5%)0.001523  eta: 0h2m  tot: 0h5m22s  (68.1%)  loss: 0.001534  eta: 0h2m  tot: 0h5m25s  (68.7%)0.001535  eta: 0h2m  tot: 0h5m25s  (68.8%)0.001534  eta: 0h2m  tot: 0h5m26s  (68.9%)h2m  tot: 0h5m29s  (69.6%)0.001535  eta: 0h2m  tot: 0h5m30s  (69.8%)0.001534  eta: 0h2m  tot: 0h5m33s  (70.5%)0.001534  eta: 0h2m  tot: 0h5m35s  (70.8%)0h2m  tot: 0h5m37s  (71.3%)0.001529  eta: 0h2m  tot: 0h5m40s  (71.9%)0.001532  eta: 0h2m  tot: 0h5m41s  (72.1%)0h2m  tot: 0h5m46s  (73.2%)0.001527  eta: 0h2m  tot: 0h5m49s  (74.0%)0.001527  eta: 0h1m  tot: 0h5m50s  (74.2%)0.001529  eta: 0h1m  tot: 0h5m51s  (74.3%)0h1m  tot: 0h5m54s  (75.0%)  eta: 0h1m  tot: 0h5m55s  (75.3%)m  tot: 0h5m58s  (75.8%)0.001529  eta: 0h1m  tot: 0h6m5s  (77.5%)0.001534  eta: 0h1m  tot: 0h6m14s  (79.3%)\n",
      " ---+++                Epoch    3 Train error : 0.00153143 +++--- ☃\n",
      "Training epoch 4: 0.01 0.01\n",
      "Epoch: 100.0%  lr: 0.000000  loss: 0.001379  eta: <1min   tot: 0h7m50s  (100.0%) tot: 0h6m17s  (80.0%)0.001283  eta: 0h1m  tot: 0h6m18s  (80.3%)0.001343  eta: 0h1m  tot: 0h6m20s  (80.5%)  loss: 0.001345  eta: 0h1m  tot: 0h6m21s  (80.9%)0.001386  eta: 0h1m  tot: 0h6m29s  (82.6%)  eta: 0h1m  tot: 0h6m30s  (82.8%)  eta: 0h1m  tot: 0h6m32s  (83.3%)0.001378  eta: 0h1m  tot: 0h6m33s  (83.4%)0.001381  eta: 0h1m  tot: 0h6m34s  (83.7%)0.001361  eta: 0h1m  tot: 0h6m36s  (84.1%)0.001358  eta: 0h1m  tot: 0h6m38s  (84.5%)  eta: 0h1m  tot: 0h6m41s  (85.1%)0.001356  eta: 0h1m  tot: 0h6m44s  (85.8%)  eta: 0h1m  tot: 0h6m47s  (86.4%)  tot: 0h6m53s  (87.8%)  tot: 0h6m56s  (88.4%)  eta: <1min   tot: 0h6m58s  (88.7%)0h7m1s  (89.6%)0h7m3s  (89.9%)0.001375  eta: <1min   tot: 0h7m4s  (90.2%)  loss: 0.001373  eta: <1min   tot: 0h7m6s  (90.5%)0h7m11s  (91.6%)0.001373  eta: <1min   tot: 0h7m13s  (92.2%)0.001375  eta: <1min   tot: 0h7m15s  (92.4%)0h7m16s  (92.6%)  tot: 0h7m19s  (93.3%)  eta: <1min   tot: 0h7m23s  (94.2%)0.001385  eta: <1min   tot: 0h7m26s  (94.8%)0h7m31s  (96.0%)  tot: 0h7m35s  (96.8%)  tot: 0h7m44s  (98.8%)0.001380  eta: <1min   tot: 0h7m45s  (99.0%)  eta: <1min   tot: 0h7m46s  (99.1%)0.001379  eta: <1min   tot: 0h7m46s  (99.2%)0h7m47s  (99.4%)0.001380  eta: <1min   tot: 0h7m47s  (99.5%)\n",
      " ---+++                Epoch    4 Train error : 0.00136896 +++--- ☃\n",
      "Saving model to file : models/starspace_embedding\n",
      "Saving model in tsv format : models/starspace_embedding.tsv\n"
     ]
    }
   ],
   "source": [
    "# 100 dimension\n",
    "!starspace train -ngrams 1 -minCount 2 -fileFormat labelDoc -thread 4 -trainFile data/starspace_train100.tsv -model models/starspace_embedding -initRandSd 0.01 -adagrad true -lr 0.05 -epoch 5 -dim 100 -negSearchLimit 10 -trainMode 3 -similarity \"cosine\" -verbose true"
   ]
  },
  {
   "cell_type": "code",
   "execution_count": null,
   "metadata": {},
   "outputs": [],
   "source": []
  },
  {
   "cell_type": "code",
   "execution_count": 7,
   "metadata": {},
   "outputs": [
    {
     "name": "stdout",
     "output_type": "stream",
     "text": [
      "Arguments: \n",
      "lr: 0.05\n",
      "dim: 300\n",
      "epoch: 5\n",
      "maxTrainTime: 8640000\n",
      "saveEveryEpoch: 0\n",
      "loss: hinge\n",
      "margin: 0.05\n",
      "similarity: cosine\n",
      "maxNegSamples: 10\n",
      "negSearchLimit: 10\n",
      "thread: 4\n",
      "minCount: 2\n",
      "minCountLabel: 1\n",
      "label: __label__\n",
      "ngrams: 1\n",
      "bucket: 2000000\n",
      "adagrad: 1\n",
      "trainMode: 3\n",
      "fileFormat: labelDoc\n",
      "normalizeText: 0\n",
      "dropoutLHS: 0\n",
      "dropoutRHS: 0\n",
      "Start to initialize starspace model.\n",
      "Build dict from input file : data/starspace_train.tsv\n",
      "Read 12M words\n",
      "Number of words in dictionary:  95058\n",
      "Number of labels in dictionary: 0\n",
      "Loading data from file : data/starspace_train.tsv\n",
      "Total number of examples loaded : 999740\n",
      "Initialized model weights. Model size :\n",
      "matrix : 95058 300\n",
      "Training epoch 0: 0.05 0.01\n",
      "Epoch: 100.0%  lr: 0.040030  loss: 0.007539  eta: 0h19m  tot: 0h4m47s  (20.0%)m  tot: 0h0m9s  (0.6%)0.019305  eta: 0h25m  tot: 0h0m18s  (1.2%)0h25m  tot: 0h0m21s  (1.4%)  tot: 0h0m29s  (2.0%)0.015431  eta: 0h24m  tot: 0h0m36s  (2.4%)0h23m  tot: 0h1m8s  (4.6%)0h23m  tot: 0h1m9s  (4.7%)0.011746  eta: 0h23m  tot: 0h1m18s  (5.3%)0.010157  eta: 0h22m  tot: 0h2m0s  (8.2%)0.008222  eta: 0h20m  tot: 0h3m42s  (15.4%)0.008155  eta: 0h20m  tot: 0h3m48s  (15.8%)h20m  tot: 0h3m48s  (15.8%)0.008075  eta: 0h20m  tot: 0h3m54s  (16.3%)  tot: 0h4m30s  (18.8%)\n",
      " ---+++                Epoch    0 Train error : 0.00755830 +++--- ☃\n",
      "Training epoch 1: 0.04 0.01\n",
      "Epoch: 100.0%  lr: 0.030000  loss: 0.002263  eta: 0h13m  tot: 0h9m22s  (40.0%)18m  tot: 0h4m58s  (20.8%)m  tot: 0h5m3s  (21.1%)0h17m  tot: 0h5m12s  (21.8%)0.002246  eta: 0h17m  tot: 0h5m26s  (22.8%)m  tot: 0h5m28s  (23.0%)0h17m  tot: 0h5m34s  (23.4%)  eta: 0h17m  tot: 0h5m37s  (23.6%)  eta: 0h16m  tot: 0h6m34s  (27.8%)  tot: 0h6m45s  (28.6%)  eta: 0h16m  tot: 0h6m46s  (28.7%)16m  tot: 0h6m48s  (28.8%)0h16m  tot: 0h6m54s  (29.2%)h16m  tot: 0h6m58s  (29.5%)  eta: 0h15m  tot: 0h7m4s  (30.0%)0h15m  tot: 0h7m7s  (30.2%)0h15m  tot: 0h7m39s  (32.5%)0h15m  tot: 0h7m47s  (33.1%)h7m48s  (33.1%)14m  tot: 0h8m21s  (35.5%)0.002262  eta: 0h14m  tot: 0h8m23s  (35.7%)0.002261  eta: 0h14m  tot: 0h8m24s  (35.8%)h14m  tot: 0h8m37s  (36.7%)0.002259  eta: 0h14m  tot: 0h8m40s  (37.0%)m  tot: 0h8m49s  (37.7%)m  tot: 0h9m11s  (39.2%)\n",
      " ---+++                Epoch    1 Train error : 0.00223854 +++--- ☃\n",
      "Training epoch 2: 0.03 0.01\n",
      "Epoch: 100.0%  lr: 0.020000  loss: 0.001439  eta: 0h9m  tot: 0h13m54s  (60.0%)3m  tot: 0h9m36s  (41.0%)  tot: 0h9m44s  (41.7%)0h12m  tot: 0h10m16s  (43.9%)12m  tot: 0h10m24s  (44.6%)0h11m  tot: 0h10m59s  (47.1%)0h11m  tot: 0h11m19s  (48.6%)0h11m  tot: 0h11m27s  (49.2%)0.001433  eta: 0h11m  tot: 0h11m41s  (50.2%)h12m9s  (52.3%)0h10m  tot: 0h12m17s  (52.9%)10m  tot: 0h12m19s  (53.0%)0.001427  eta: 0h10m  tot: 0h12m23s  (53.3%)  tot: 0h12m27s  (53.6%)0.001437  eta: 0h10m  tot: 0h12m56s  (55.7%)0.001437  eta: 0h9m  tot: 0h13m12s  (56.9%)\n",
      " ---+++                Epoch    2 Train error : 0.00143943 +++--- ☃\n",
      "Training epoch 3: 0.02 0.01\n",
      "Epoch: 100.0%  lr: 0.010010  loss: 0.001080  eta: 0h4m  tot: 0h18m24s  (80.0%)13m59s  (60.3%)0.001056  eta: 0h7m  tot: 0h15m5s  (65.2%)0.001059  eta: 0h7m  tot: 0h15m13s  (65.8%)  tot: 0h15m21s  (66.5%)0.001060  eta: 0h6m  tot: 0h15m55s  (68.9%)  tot: 0h16m5s  (69.7%)0.001068  eta: 0h6m  tot: 0h16m10s  (70.1%)  eta: 0h5m  tot: 0h17m14s  (74.8%)0.001071  eta: 0h5m  tot: 0h17m23s  (75.5%)0.001082  eta: 0h4m  tot: 0h18m13s  (79.2%)\n",
      " ---+++                Epoch    3 Train error : 0.00109647 +++--- ☃\n",
      "Training epoch 4: 0.01 0.01\n",
      "Epoch: 100.0%  lr: 0.000010  loss: 0.000933  eta: <1min   tot: 0h22m54s  (100.0%): 0h4m  tot: 0h18m43s  (81.4%)  eta: 0h3m  tot: 0h19m1s  (82.7%)0h2m  tot: 0h20m29s  (89.2%)20m30s  (89.3%)0.000937  eta: 0h2m  tot: 0h20m39s  (90.0%)0h2m  tot: 0h20m44s  (90.3%)0h1m  tot: 0h21m24s  (93.3%)0.000939  eta: 0h1m  tot: 0h21m25s  (93.4%)1m  tot: 0h21m26s  (93.5%)  loss: 0.000935  eta: <1min   tot: 0h22m27s  (98.0%)0.000935  eta: <1min   tot: 0h22m28s  (98.1%)  tot: 0h22m41s  (99.0%)0h22m52s  (99.8%)\n",
      " ---+++                Epoch    4 Train error : 0.00093020 +++--- ☃\n",
      "Saving model to file : models/starspace_embedding\n",
      "Saving model in tsv format : models/starspace_embedding.tsv\n"
     ]
    }
   ],
   "source": [
    "# 300 dimension\n",
    "!starspace train -ngrams 1 -minCount 2 -fileFormat labelDoc -thread 4 -trainFile data/starspace_train.tsv -model models/starspace_embedding300 -initRandSd 0.01 -adagrad true -lr 0.05 -epoch 5 -dim 300 -negSearchLimit 10 -trainMode 3 -similarity \"cosine\" -verbose true\n"
   ]
  },
  {
   "cell_type": "code",
   "execution_count": 1,
   "metadata": {},
   "outputs": [
    {
     "name": "stdout",
     "output_type": "stream",
     "text": [
      "Arguments: \n",
      "lr: 0.05\n",
      "dim: 300\n",
      "epoch: 8\n",
      "maxTrainTime: 8640000\n",
      "saveEveryEpoch: 0\n",
      "loss: hinge\n",
      "margin: 0.05\n",
      "similarity: cosine\n",
      "maxNegSamples: 10\n",
      "negSearchLimit: 10\n",
      "thread: 4\n",
      "minCount: 2\n",
      "minCountLabel: 1\n",
      "label: __label__\n",
      "ngrams: 2\n",
      "bucket: 2000000\n",
      "adagrad: 1\n",
      "trainMode: 3\n",
      "fileFormat: labelDoc\n",
      "normalizeText: 0\n",
      "dropoutLHS: 0\n",
      "dropoutRHS: 0\n",
      "Start to initialize starspace model.\n",
      "Build dict from input file : data/starspace_train.tsv\n",
      "Read 12M words\n",
      "Number of words in dictionary:  95058\n",
      "Number of labels in dictionary: 0\n",
      "Loading data from file : data/starspace_train.tsv\n",
      "Total number of examples loaded : 999831\n",
      "Initialized model weights. Model size :\n",
      "matrix : 2095058 300\n",
      "Training epoch 0: 0.05 0.00625\n",
      "Epoch: 100.0%  lr: 0.043751  loss: 0.008665  eta: 0h53m  tot: 0h7m35s  (12.5%)9405  eta: 1h4m  tot: 0h0m35s  (0.9%)0h59m  tot: 0h2m35s  (4.2%)0.011943  eta: 0h59m  tot: 0h2m47s  (4.5%)0h59m  tot: 0h2m59s  (4.8%)h58m  tot: 0h3m31s  (5.7%)  eta: 0h58m  tot: 0h3m36s  (5.8%)0h58m  tot: 0h3m45s  (6.1%)0.045690  loss: 0.009873  eta: 0h56m  tot: 0h5m7s  (8.4%)0.009800  eta: 0h56m  tot: 0h5m13s  (8.5%)0.009327  eta: 0h54m  tot: 0h6m4s  (10.0%)0h54m  tot: 0h6m18s  (10.3%)  loss: 0.008972  eta: 0h54m  tot: 0h6m51s  (11.3%)0h53m  tot: 0h6m51s  (11.3%)0.044314  loss: 0.008920  eta: 0h53m  tot: 0h6m57s  (11.4%)0.008763  eta: 0h53m  tot: 0h7m21s  (12.1%)0.008735  eta: 0h53m  tot: 0h7m24s  (12.2%)\n",
      " ---+++                Epoch    0 Train error : 0.00861953 +++--- ☃\n",
      "Training epoch 1: 0.04375 0.00625\n",
      "Epoch: 100.0%  lr: 0.037501  loss: 0.001353  eta: 0h41m  tot: 0h14m35s  (25.0%)01679  eta: 0h49m  tot: 0h7m38s  (12.6%)  loss: 0.001651  eta: 0h49m  tot: 0h7m38s  (12.6%)  eta: 0h48m  tot: 0h7m49s  (12.9%)0.043187  loss: 0.001415  eta: 0h48m  tot: 0h8m12s  (13.6%)0.042924  loss: 0.001414  eta: 0h48m  tot: 0h8m32s  (14.2%)0.042906  loss: 0.001397  eta: 0h47m  tot: 0h8m35s  (14.3%)  lr: 0.042862  loss: 0.001391  eta: 0h47m  tot: 0h8m37s  (14.3%)0.042161  loss: 0.001351  eta: 0h47m  tot: 0h9m21s  (15.6%)0.001357  eta: 0h47m  tot: 0h9m29s  (15.9%)0h46m  tot: 0h9m43s  (16.3%)46m  tot: 0h9m55s  (16.7%)0h46m  tot: 0h9m58s  (16.8%)0.001360  eta: 0h46m  tot: 0h10m11s  (17.1%)0.041373  loss: 0.001362  eta: 0h46m  tot: 0h10m13s  (17.2%)0.001362  eta: 0h46m  tot: 0h10m16s  (17.3%)0.041198  loss: 0.001358  eta: 0h46m  tot: 0h10m24s  (17.5%)0h45m  tot: 0h11m4s  (18.7%)0.001358  eta: 0h43m  tot: 0h12m33s  (21.4%)0.001356  eta: 0h43m  tot: 0h13m15s  (22.6%)0h42m  tot: 0h13m51s  (23.7%)0h42m  tot: 0h13m53s  (23.8%)0.001355  eta: 0h42m  tot: 0h14m1s  (24.0%)\n",
      " ---+++                Epoch    1 Train error : 0.00135344 +++--- ☃\n",
      "Training epoch 2: 0.0375 0.00625\n",
      "Epoch: 100.0%  lr: 0.031251  loss: 0.000636  eta: 0h34m  tot: 0h21m30s  (37.5%)41m  tot: 0h14m38s  (25.1%)0.037369  loss: 0.000732  eta: 0h41m  tot: 0h14m46s  (25.3%)0h41m  tot: 0h15m2s  (25.8%)0.000664  eta: 0h40m  tot: 0h15m25s  (26.5%)40m  tot: 0h15m35s  (26.8%)0h39m  tot: 0h16m13s  (28.0%)  loss: 0.000636  eta: 0h39m  tot: 0h16m37s  (28.7%)0h39m  tot: 0h16m52s  (29.1%)0.035167  loss: 0.000635  eta: 0h38m  tot: 0h17m6s  (29.5%)0.034798  loss: 0.000636  eta: 0h38m  tot: 0h17m29s  (30.2%)0.000639  eta: 0h38m  tot: 0h17m45s  (30.7%)0.000636  eta: 0h37m  tot: 0h18m40s  (32.4%)h37m  tot: 0h18m42s  (32.4%)0.033459  loss: 0.000635  eta: 0h37m  tot: 0h18m49s  (32.7%)0.033372  loss: 0.000636  eta: 0h37m  tot: 0h18m58s  (32.9%)0.033278  loss: 0.000637  eta: 0h36m  tot: 0h19m5s  (33.1%)0.000638  eta: 0h36m  tot: 0h19m17s  (33.5%)0.032947  loss: 0.000637  eta: 0h36m  tot: 0h19m26s  (33.8%)%  lr: 0.032015  loss: 0.000634  eta: 0h35m  tot: 0h20m27s  (35.6%)0.000633  eta: 0h35m  tot: 0h20m37s  (35.9%)0h34m  tot: 0h21m10s  (36.9%)\n",
      " ---+++                Epoch    2 Train error : 0.00063208 +++--- ☃\n",
      "Training epoch 3: 0.03125 0.00625\n",
      "Epoch: 100.0%  lr: 0.025150  loss: 0.000393  eta: 0h27m  tot: 0h28m24s  (50.0%)031037  loss: 0.000373  eta: 0h34m  tot: 0h21m41s  (37.9%)0.000376  eta: 0h34m  tot: 0h21m43s  (37.9%)0.000396  eta: 0h34m  tot: 0h22m25s  (39.1%)0h32m  tot: 0h23m42s  (41.5%)0.000394  eta: 0h32m  tot: 0h23m45s  (41.6%)0.000392  eta: 0h31m  tot: 0h24m46s  (43.4%)0h30m  tot: 0h25m5s  (44.0%)  tot: 0h25m15s  (44.3%)29m  tot: 0h26m46s  (47.0%)0h27m  tot: 0h28m10s  (49.6%)0.025244  loss: 0.000393  eta: 0h27m  tot: 0h28m20s  (49.9%)0.025212  loss: 0.000393  eta: 0h27m  tot: 0h28m21s  (49.9%)\n",
      " ---+++                Epoch    3 Train error : 0.00040050 +++--- ☃\n",
      "Training epoch 4: 0.025 0.00625\n",
      "Epoch: 100.0%  lr: 0.018831  loss: 0.000282  eta: 0h25m  tot: 0h37m21s  (62.5%)26m  tot: 0h29m25s  (51.1%)0h29m59s  (52.1%)h26m  tot: 0h30m3s  (52.2%)4s  (52.2%)m6s  (52.3%)  tot: 0h30m12s  (52.5%)0h26m  tot: 0h30m31s  (53.1%)%  lr: 0.022529  loss: 0.000283  eta: 0h26m  tot: 0h31m42s  (54.9%)59.1%  lr: 0.021240  loss: 0.000287  eta: 0h27m  tot: 0h33m31s  (57.4%)65.2%  lr: 0.020889  loss: 0.000285  eta: 0h27m  tot: 0h34m6s  (58.2%)65.8%  lr: 0.020871  loss: 0.000285  eta: 0h27m  tot: 0h34m9s  (58.2%)  loss: 0.000283  eta: 0h26m  tot: 0h35m47s  (60.4%)  loss: 0.000283  eta: 0h26m  tot: 0h36m30s  (61.4%)h36m57s  (62.0%)\n",
      " ---+++                Epoch    4 Train error : 0.00028504 +++--- ☃\n",
      "Training epoch 5: 0.01875 0.00625\n",
      "Epoch: 100.0%  lr: 0.012500  loss: 0.000223  eta: 0h16m  tot: 0h45m40s  (75.0%)6.0%  lr: 0.017768  loss: 0.000215  eta: 0h26m  tot: 0h39m6s  (64.5%)17.4%  lr: 0.017661  loss: 0.000222  eta: 0h25m  tot: 0h39m14s  (64.7%)20.9%  lr: 0.017449  loss: 0.000228  eta: 0h25m  tot: 0h39m33s  (65.1%)28.5%  lr: 0.016911  loss: 0.000227  eta: 0h25m  tot: 0h40m16s  (66.1%)35.9%  lr: 0.016341  loss: 0.000227  eta: 0h24m  tot: 0h40m57s  (67.0%)39.3%  lr: 0.016135  loss: 0.000224  eta: 0h24m  tot: 0h41m15s  (67.4%)48.8%  lr: 0.015565  loss: 0.000223  eta: 0h23m  tot: 0h42m8s  (68.6%)0h22m  tot: 0h42m19s  (68.9%)  loss: 0.000225  eta: 0h20m  tot: 0h43m2s  (70.2%)0.000224  eta: 0h20m  tot: 0h43m23s  (70.8%)0.000223  eta: 0h18m  tot: 0h44m27s  (72.8%)0h17m  tot: 0h44m43s  (73.3%)44m59s  (73.8%)0.013006  loss: 0.000225  eta: 0h16m  tot: 0h45m9s  (74.0%)0.012706  loss: 0.000224  eta: 0h16m  tot: 0h45m26s  (74.6%)\n",
      " ---+++                Epoch    5 Train error : 0.00022225 +++--- ☃\n",
      "Training epoch 6: 0.0125 0.00625\n",
      "Epoch: 100.0%  lr: 0.006275  loss: 0.000183  eta: 0h6m  tot: 0h52m30s  (87.5%) eta: 0h13m  tot: 0h45m55s  (75.4%)0.012156  loss: 0.000192  eta: 0h13m  tot: 0h46m8s  (75.8%)0.011549  loss: 0.000190  eta: 0h12m  tot: 0h46m56s  (77.3%)  eta: 0h12m  tot: 0h47m3s  (77.5%)0h12m  tot: 0h47m4s  (77.5%)0h12m  tot: 0h47m7s  (77.6%)0.010992  loss: 0.000187  eta: 0h11m  tot: 0h47m33s  (78.4%)11m  tot: 0h47m59s  (79.2%)0.000184  eta: 0h10m  tot: 0h48m19s  (79.8%)9m  tot: 0h49m20s  (81.7%)0h7m  tot: 0h51m59s  (86.6%)0.000182  eta: 0h7m  tot: 0h52m4s  (86.7%)0h6m  tot: 0h52m26s  (87.4%)\n",
      " ---+++                Epoch    6 Train error : 0.00018221 +++--- ☃\n",
      "Training epoch 7: 0.00625 0.00625\n",
      "Epoch: 100.0%  lr: 0.000013  loss: 0.000161  eta: <1min   tot: 0h59m37s  (100.0%)146  eta: 0h6m  tot: 0h52m51s  (88.0%)  eta: 0h6m  tot: 0h52m58s  (88.3%)  eta: 0h5m  tot: 0h53m24s  (89.0%)0h5m  tot: 0h53m42s  (89.6%)0h5m  tot: 0h53m43s  (89.6%)0.000154  eta: 0h5m  tot: 0h54m20s  (90.8%)0.000154  eta: 0h4m  tot: 0h54m53s  (91.8%)0.000155  eta: 0h4m  tot: 0h55m16s  (92.5%)0.003654  loss: 0.000154  eta: 0h3m  tot: 0h55m22s  (92.7%)0h3m  tot: 0h55m23s  (92.7%)0.000158  eta: 0h3m  tot: 0h56m10s  (94.1%)0h3m  tot: 0h56m11s  (94.2%)0.002008  loss: 0.000160  eta: 0h2m  tot: 0h57m9s  (95.9%)  tot: 0h57m26s  (96.4%)1m  tot: 0h57m41s  (96.8%)0h1m  tot: 0h58m17s  (97.8%)0.000160  eta: 0h1m  tot: 0h58m23s  (98.0%)\n",
      " ---+++                Epoch    7 Train error : 0.00016012 +++--- ☃\n",
      "Saving model to file : models/starspace_embedding300_ngram2\n",
      "Saving model in tsv format : models/starspace_embedding300_ngram2.tsv\n"
     ]
    }
   ],
   "source": [
    "# 300 dimension ngram 2\n",
    "!starspace train -ngrams 2 -minCount 2 -fileFormat labelDoc -thread 4 -trainFile data/starspace_train.tsv -model models/starspace_embedding300_ngram2 -initRandSd 0.01 -adagrad true -lr 0.05 -epoch 8 -dim 300 -negSearchLimit 10 -trainMode 3 -similarity \"cosine\" -verbose true\n"
   ]
  },
  {
   "cell_type": "code",
   "execution_count": 4,
   "metadata": {},
   "outputs": [
    {
     "name": "stdout",
     "output_type": "stream",
     "text": [
      "converting string list\tconvert google results object pure js python object\r\n",
      "html 5 canvas javascript use making interactive drawing tool\tevent handling geometries threejs\r\n",
      "sending array via ajax fails\tgetting list items unordered list php\r\n",
      "insert cookiecollection cookiecontainer\tc# create cookie string send\r\n",
      "updating one element bound observable collection\twpf update changes list item list\r\n",
      "mongodb error find\tretrieve queried element object array mongodb collection\r\n",
      "select2 displaying search results\tuse jquery ajax outside domain\r\n",
      "using reduce merge multiple data frames passing arguments without defining function outside reduce syntax\tr merge list data frames one data frame missing values row\r\n",
      "adding prototype javascript object literal\tjavascript prototype work\tjavascript setting property undefined prototyped object\r\n",
      "whats best way get directory assembly executing\tdependency inversion principle important\tdependency inversion compile time configured dependency injection aspnet mvc 4 solution\r\n"
     ]
    }
   ],
   "source": [
    "!head data/starspace_train.tsv"
   ]
  },
  {
   "cell_type": "code",
   "execution_count": 2,
   "metadata": {},
   "outputs": [
    {
     "name": "stdout",
     "output_type": "stream",
     "text": [
      "Arguments: \n",
      "lr: 0.05\n",
      "dim: 100\n",
      "epoch: 8\n",
      "maxTrainTime: 8640000\n",
      "saveEveryEpoch: 0\n",
      "loss: hinge\n",
      "margin: 0.05\n",
      "similarity: cosine\n",
      "maxNegSamples: 10\n",
      "negSearchLimit: 10\n",
      "thread: 4\n",
      "minCount: 2\n",
      "minCountLabel: 1\n",
      "label: __label__\n",
      "ngrams: 2\n",
      "bucket: 2000000\n",
      "adagrad: 1\n",
      "trainMode: 3\n",
      "fileFormat: labelDoc\n",
      "normalizeText: 0\n",
      "dropoutLHS: 0\n",
      "dropoutRHS: 0\n",
      "Start to initialize starspace model.\n",
      "Build dict from input file : data/starspace_train.tsv\n",
      "Read 12M words\n",
      "Number of words in dictionary:  95058\n",
      "Number of labels in dictionary: 0\n",
      "Loading data from file : data/starspace_train.tsv\n",
      "Total number of examples loaded : 999831\n",
      "Initialized model weights. Model size :\n",
      "matrix : 2095058 100\n",
      "Training epoch 0: 0.05 0.00625\n",
      "Epoch: 100.0%  lr: 0.043764  loss: 0.009110  eta: 0h18m  tot: 0h2m36s  (12.5%)0s  (0.0%)0h21m  tot: 0h0m35s  (2.7%)0h20m  tot: 0h0m42s  (3.3%)0h20m  tot: 0h0m47s  (3.7%)m  tot: 0h1m1s  (4.8%)0h20m  tot: 0h1m10s  (5.5%)0h19m  tot: 0h1m23s  (6.6%)  eta: 0h19m  tot: 0h1m48s  (8.6%)0h19m  tot: 0h1m55s  (9.2%)0.009958  eta: 0h18m  tot: 0h1m59s  (9.5%)0.009689  eta: 0h18m  tot: 0h2m8s  (10.3%)  tot: 0h2m14s  (10.7%)18m  tot: 0h2m28s  (11.9%)\n",
      " ---+++                Epoch    0 Train error : 0.00904894 +++--- ☃\n",
      "Training epoch 1: 0.04375 0.00625\n",
      "Epoch: 100.0%  lr: 0.037501  loss: 0.001334  eta: 0h14m  tot: 0h5m0s  (25.0%)h16m  tot: 0h2m49s  (13.6%)0h16m  tot: 0h2m57s  (14.3%)0h16m  tot: 0h3m17s  (16.0%)15m  tot: 0h3m29s  (17.1%)0.001359  eta: 0h15m  tot: 0h3m47s  (18.6%)0h4m3s  (20.0%)0h15m  tot: 0h4m5s  (20.2%)0.001350  eta: 0h15m  tot: 0h4m6s  (20.3%)  eta: 0h15m  tot: 0h4m8s  (20.5%)h15m  tot: 0h4m20s  (21.5%)0.001343  eta: 0h14m  tot: 0h4m27s  (22.1%)0h14m  tot: 0h4m47s  (23.9%)0.001336  eta: 0h14m  tot: 0h4m57s  (24.7%)\n",
      " ---+++                Epoch    1 Train error : 0.00133692 +++--- ☃\n",
      "Training epoch 2: 0.0375 0.00625\n",
      "Epoch: 100.0%  lr: 0.031251  loss: 0.000697  eta: 0h11m  tot: 0h7m22s  (37.5%)00680  eta: 0h14m  tot: 0h5m4s  (25.4%)0.000703  eta: 0h14m  tot: 0h5m7s  (25.6%)h13m  tot: 0h5m14s  (26.2%)  eta: 0h13m  tot: 0h5m15s  (26.3%)  eta: 0h13m  tot: 0h5m22s  (26.9%)0.000657  eta: 0h13m  tot: 0h5m31s  (27.7%)  eta: 0h13m  tot: 0h5m43s  (28.8%)12m  tot: 0h6m17s  (31.8%)m  tot: 0h6m21s  (32.1%)0h12m  tot: 0h6m29s  (32.8%)0h12m  tot: 0h6m32s  (33.1%)0h12m  tot: 0h6m33s  (33.2%)s  (37.4%)\n",
      " ---+++                Epoch    2 Train error : 0.00068967 +++--- ☃\n",
      "Training epoch 3: 0.03125 0.00625\n",
      "Epoch: 100.0%  lr: 0.025000  loss: 0.000459  eta: 0h9m  tot: 0h9m43s  (50.0%).000452  eta: 0h11m  tot: 0h7m33s  (38.5%)0h11m  tot: 0h7m40s  (39.1%)0.030505  loss: 0.000460  eta: 0h11m  tot: 0h7m40s  (39.1%)0.000456  eta: 0h11m  tot: 0h7m43s  (39.4%)11m  tot: 0h7m58s  (40.7%)0h11m  tot: 0h8m9s  (41.7%)0.000460  eta: 0h10m  tot: 0h8m10s  (41.7%)10m  tot: 0h8m15s  (42.2%)h10m  tot: 0h8m26s  (43.1%)0.000457  eta: 0h10m  tot: 0h8m38s  (44.2%)10m  tot: 0h8m55s  (45.7%)0.000459  eta: 0h10m  tot: 0h9m7s  (46.8%)0h9m  tot: 0h9m11s  (47.1%)0h9m  tot: 0h9m14s  (47.4%)0.000458  eta: 0h9m  tot: 0h9m15s  (47.5%)0.000458  eta: 0h9m  tot: 0h9m21s  (48.1%)0h9m  tot: 0h9m30s  (48.9%)9m  tot: 0h9m32s  (49.0%)\n",
      " ---+++                Epoch    3 Train error : 0.00045519 +++--- ☃\n",
      "Training epoch 4: 0.025 0.00625\n",
      "Epoch: 100.0%  lr: 0.018762  loss: 0.000348  eta: 0h7m  tot: 0h12m4s  (62.5%) tot: 0h9m50s  (50.5%)0h9m  tot: 0h9m50s  (50.6%)  eta: 0h9m  tot: 0h9m53s  (50.9%)0h9m  tot: 0h9m55s  (51.0%)0.000328  eta: 0h9m  tot: 0h10m3s  (51.8%)0h8m  tot: 0h10m22s  (53.4%)0.023148  loss: 0.000345  eta: 0h8m  tot: 0h10m27s  (53.8%)0.000348  eta: 0h8m  tot: 0h10m38s  (54.9%)m  tot: 0h10m39s  (54.9%)0.000345  eta: 0h8m  tot: 0h10m42s  (55.2%)8m  tot: 0h11m3s  (57.1%)0h8m  tot: 0h11m5s  (57.3%)0h7m  tot: 0h11m9s  (57.6%)0h7m  tot: 0h11m10s  (57.6%)0.000345  eta: 0h7m  tot: 0h11m15s  (58.1%)h7m  tot: 0h11m29s  (59.3%)0.020038  loss: 0.000351  eta: 0h7m  tot: 0h11m36s  (60.0%)0h7m  tot: 0h11m49s  (61.1%)h7m  tot: 0h11m54s  (61.6%)0h7m  tot: 0h11m55s  (61.7%)\n",
      " ---+++                Epoch    4 Train error : 0.00034531 +++--- ☃\n",
      "Training epoch 5: 0.01875 0.00625\n",
      "Epoch: 100.0%  lr: 0.012500  loss: 0.000287  eta: 0h4m  tot: 0h14m26s  (75.0%).000278  eta: 0h6m  tot: 0h12m22s  (64.0%)0.000280  eta: 0h6m  tot: 0h12m23s  (64.0%)0.000282  eta: 0h6m  tot: 0h12m26s  (64.3%)0.000278  eta: 0h6m  tot: 0h12m26s  (64.4%)0.000278  eta: 0h6m  tot: 0h12m30s  (64.7%)6m  tot: 0h12m38s  (65.4%)0.000274  eta: 0h6m  tot: 0h12m43s  (65.9%)0.016879  loss: 0.000273  eta: 0h6m  tot: 0h12m49s  (66.4%)m  tot: 0h12m51s  (66.6%)0h5m  tot: 0h13m22s  (69.3%)0.000285  eta: 0h5m  tot: 0h13m22s  (69.3%)0.014777  loss: 0.000287  eta: 0h5m  tot: 0h13m35s  (70.5%)0h5m  tot: 0h13m37s  (70.6%)0h5m  tot: 0h13m41s  (71.0%)0.000285  eta: 0h5m  tot: 0h13m43s  (71.2%)0.000284  eta: 0h5m  tot: 0h13m44s  (71.3%)0.000284  eta: 0h5m  tot: 0h13m50s  (71.8%)0.013225  loss: 0.000287  eta: 0h4m  tot: 0h14m9s  (73.5%)0.000289  eta: 0h4m  tot: 0h14m13s  (73.9%)0h4m  tot: 0h14m15s  (74.0%)  eta: 0h4m  tot: 0h14m18s  (74.2%)\n",
      " ---+++                Epoch    5 Train error : 0.00028288 +++--- ☃\n",
      "Training epoch 6: 0.0125 0.00625\n",
      "Epoch: 100.0%  lr: 0.006250  loss: 0.000248  eta: 0h2m  tot: 0h16m47s  (87.5%)000245  eta: 0h4m  tot: 0h14m34s  (75.7%)  eta: 0h4m  tot: 0h14m44s  (76.5%)0h4m  tot: 0h14m48s  (77.0%)  eta: 0h4m  tot: 0h14m50s  (77.1%)0h4m  tot: 0h14m51s  (77.2%)h4m  tot: 0h14m51s  (77.2%)0.000252  eta: 0h4m  tot: 0h14m55s  (77.6%)0h4m  tot: 0h15m2s  (78.2%)0.000245  eta: 0h4m  tot: 0h15m4s  (78.3%)  loss: 0.000246  eta: 0h3m  tot: 0h15m18s  (79.6%)0h3m  tot: 0h15m29s  (80.6%)3m  tot: 0h15m29s  (80.6%)0h3m  tot: 0h15m35s  (81.1%)0h3m  tot: 0h15m38s  (81.4%)0.009084  loss: 0.000249  eta: 0h3m  tot: 0h15m46s  (82.0%)m  tot: 0h15m47s  (82.1%)0.000249  eta: 0h3m  tot: 0h15m49s  (82.4%)0.000249  eta: 0h3m  tot: 0h15m59s  (83.2%)0.008490  loss: 0.000249  eta: 0h3m  tot: 0h15m59s  (83.3%)  loss: 0.000249  eta: 0h3m  tot: 0h16m0s  (83.3%)0.000249  eta: 0h3m  tot: 0h16m0s  (83.3%)0.000249  eta: 0h3m  tot: 0h16m7s  (84.0%)  loss: 0.000251  eta: 0h2m  tot: 0h16m13s  (84.5%)0.000252  eta: 0h2m  tot: 0h16m20s  (85.1%)  loss: 0.000248  eta: 0h2m  tot: 0h16m43s  (87.1%)87.2%)  eta: 0h2m  tot: 0h16m44s  (87.2%)\n",
      " ---+++                Epoch    6 Train error : 0.00023960 +++--- ☃\n",
      "Training epoch 7: 0.00625 0.00625\n",
      "Epoch: 100.0%  lr: 0.000000  loss: 0.000216  eta: <1min   tot: 0h19m8s  (100.0%) tot: 0h16m57s  (88.4%)  eta: 0h2m  tot: 0h17m0s  (88.7%)0.000196  eta: 0h1m  tot: 0h17m17s  (90.2%)0.004967  loss: 0.000197  eta: 0h1m  tot: 0h17m18s  (90.3%)1m  tot: 0h17m18s  (90.3%)0h1m  tot: 0h17m38s  (92.0%)0h1m  tot: 0h17m53s  (93.4%)0h1m  tot: 0h17m54s  (93.4%)0.000209  eta: 0h1m  tot: 0h18m6s  (94.5%)h18m10s  (94.9%)0.002578  loss: 0.000209  eta: <1min   tot: 0h18m10s  (94.9%)  tot: 0h18m11s  (94.9%)  eta: <1min   tot: 0h18m12s  (95.1%)0.000211  eta: <1min   tot: 0h18m30s  (96.7%)0h18m38s  (97.4%)18m45s  (98.0%)h18m50s  (98.4%)18m52s  (98.6%)0.000213  eta: <1min   tot: 0h18m53s  (98.7%)0.000213  eta: <1min   tot: 0h18m54s  (98.7%)0h18m57s  (99.1%)  eta: <1min   tot: 0h19m0s  (99.3%)m4s  (99.7%)\n",
      " ---+++                Epoch    7 Train error : 0.00021368 +++--- ☃\n",
      "Saving model to file : models/starspace_embedding100_ngram2\n",
      "Saving model in tsv format : models/starspace_embedding100_ngram2.tsv\n"
     ]
    }
   ],
   "source": [
    "# 100 dimension ngram 2\n",
    "!starspace train -ngrams 2 -minCount 2 -fileFormat labelDoc -thread 4 -trainFile data/starspace_train.tsv -model models/starspace_embedding100_ngram2 -initRandSd 0.01 -adagrad true -lr 0.05 -epoch 8 -dim 100 -negSearchLimit 10 -trainMode 3 -similarity \"cosine\" -verbose true\n"
   ]
  },
  {
   "cell_type": "markdown",
   "metadata": {},
   "source": [
    "Should I train on my own data????? \n",
    "- TrainMode - 5"
   ]
  },
  {
   "cell_type": "code",
   "execution_count": null,
   "metadata": {},
   "outputs": [],
   "source": []
  }
 ],
 "metadata": {
  "kernelspec": {
   "display_name": "Python 3",
   "language": "python",
   "name": "python3"
  },
  "language_info": {
   "codemirror_mode": {
    "name": "ipython",
    "version": 3
   },
   "file_extension": ".py",
   "mimetype": "text/x-python",
   "name": "python",
   "nbconvert_exporter": "python",
   "pygments_lexer": "ipython3",
   "version": "3.6.4"
  }
 },
 "nbformat": 4,
 "nbformat_minor": 2
}
