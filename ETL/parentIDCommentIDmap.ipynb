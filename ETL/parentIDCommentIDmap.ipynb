{
 "cells": [
  {
   "cell_type": "code",
   "execution_count": 7,
   "metadata": {},
   "outputs": [],
   "source": [
    "import numpy as np\n",
    "import pandas as pd\n",
    "import sqlite3\n",
    "from collections import defaultdict\n",
    "import math\n",
    "import pickle\n",
    "from pathlib import Path\n",
    "\n",
    "DATA_PATH = Path('data/')"
   ]
  },
  {
   "cell_type": "code",
   "execution_count": 8,
   "metadata": {},
   "outputs": [],
   "source": [
    "parent_comment_map = defaultdict(list)\n",
    "# parent_comment_map = {}"
   ]
  },
  {
   "cell_type": "code",
   "execution_count": 9,
   "metadata": {},
   "outputs": [
    {
     "data": {
      "text/plain": [
       "[]"
      ]
     },
     "execution_count": 9,
     "metadata": {},
     "output_type": "execute_result"
    }
   ],
   "source": [
    "post_ids = [1, 3, 4, 5, 3, 1, 4]\n",
    "for p in post_ids:\n",
    "    if p not in parent_comment_map:\n",
    "        parent_comment_map[p] = []\n",
    "    else:\n",
    "        parent_comment_map[p].append(p)\n",
    "        \n",
    "parent_comment_map[9]      "
   ]
  },
  {
   "cell_type": "code",
   "execution_count": 10,
   "metadata": {},
   "outputs": [
    {
     "name": "stdout",
     "output_type": "stream",
     "text": [
      "CPU times: user 1min 15s, sys: 20 s, total: 1min 35s\n",
      "Wall time: 2min 29s\n"
     ]
    }
   ],
   "source": [
    "%%time\n",
    "\n",
    "import sqlite3\n",
    "DB_NAME = 'StackOverflow.db'\n",
    "connection = sqlite3.connect(DB_NAME)\n",
    "c = connection.cursor()\n",
    "\n",
    "df = pd.read_sql(\"SELECT comment_id, parent_id FROM posts\", connection, chunksize=10000)\n",
    "\n",
    "def preprocess(df):\n",
    "    parent_comment_map = {}\n",
    "    for i, data in enumerate(df): \n",
    "        for x in data['parent_id']:\n",
    "            if not math.isnan(x):\n",
    "                if x not in parent_comment_map:\n",
    "                    parent_comment_map[int(x)] = []\n",
    "                    \n",
    "        for x, y in zip(data['parent_id'], data['comment_id']):\n",
    "            if x in parent_comment_map:\n",
    "                parent_comment_map[x].append(y)\n",
    "    return parent_comment_map\n",
    "\n",
    "parent_comment_map = preprocess(df)\n",
    "parent_comment_map"
   ]
  },
  {
   "cell_type": "code",
   "execution_count": 11,
   "metadata": {},
   "outputs": [],
   "source": [
    "pickle.dump(parent_comment_map, (DATA_PATH/'parent_comment_map.pkl').open('wb'))"
   ]
  },
  {
   "cell_type": "code",
   "execution_count": 12,
   "metadata": {},
   "outputs": [
    {
     "data": {
      "text/plain": [
       "[7,\n",
       " 78,\n",
       " 86,\n",
       " 2791,\n",
       " 7263,\n",
       " 110198,\n",
       " 305467,\n",
       " 594436,\n",
       " 7262112,\n",
       " 7262131,\n",
       " 9579950,\n",
       " 10568821,\n",
       " 15952367]"
      ]
     },
     "execution_count": 12,
     "metadata": {},
     "output_type": "execute_result"
    }
   ],
   "source": [
    "parent_comment_map[4]"
   ]
  },
  {
   "cell_type": "code",
   "execution_count": 19,
   "metadata": {},
   "outputs": [
    {
     "name": "stdout",
     "output_type": "stream",
     "text": [
      "[7, 78, 86, 2791, 7263, 110198, 305467, 594436, 7262112, 7262131, 9579950, 10568821, 15952367]\n"
     ]
    }
   ],
   "source": [
    "if 4 in parent_comment_map:\n",
    "    print(parent_comment_map[4])"
   ]
  },
  {
   "cell_type": "code",
   "execution_count": null,
   "metadata": {},
   "outputs": [],
   "source": []
  }
 ],
 "metadata": {
  "kernelspec": {
   "display_name": "Python 3",
   "language": "python",
   "name": "python3"
  },
  "language_info": {
   "codemirror_mode": {
    "name": "ipython",
    "version": 3
   },
   "file_extension": ".py",
   "mimetype": "text/x-python",
   "name": "python",
   "nbconvert_exporter": "python",
   "pygments_lexer": "ipython3",
   "version": "3.6.4"
  }
 },
 "nbformat": 4,
 "nbformat_minor": 2
}
